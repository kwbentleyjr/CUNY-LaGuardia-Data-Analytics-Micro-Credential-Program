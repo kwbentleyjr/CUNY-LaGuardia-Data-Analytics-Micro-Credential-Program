{
  "nbformat": 4,
  "nbformat_minor": 0,
  "metadata": {
    "colab": {
      "name": "1-8-21.ipynb",
      "provenance": [],
      "authorship_tag": "ABX9TyNMEhb33A6g9pZxWQdLeIwt",
      "include_colab_link": true
    },
    "kernelspec": {
      "name": "python3",
      "display_name": "Python 3"
    }
  },
  "cells": [
    {
      "cell_type": "markdown",
      "metadata": {
        "id": "view-in-github",
        "colab_type": "text"
      },
      "source": [
        "<a href=\"https://colab.research.google.com/github/kwbentleyjr/data_analytics_2/blob/main/Python/1_8_21.ipynb\" target=\"_parent\"><img src=\"https://colab.research.google.com/assets/colab-badge.svg\" alt=\"Open In Colab\"/></a>"
      ]
    },
    {
      "cell_type": "code",
      "metadata": {
        "colab": {
          "base_uri": "https://localhost:8080/"
        },
        "id": "FDMoQi-tdhkz",
        "outputId": "841db29f-b31e-4687-acbe-6324cc776922"
      },
      "source": [
        "age = 1\r\n",
        "if age <= 2:\r\n",
        "  print(\"This person is a baby.\")\r\n",
        "elif age > 2 and age <= 5:\r\n",
        "  print(\"This person is a toddler.\")\r\n",
        "elif age > 5 and age <=12:\r\n",
        "  print(\"This person is in grammer school.\")\r\n",
        "elif age > 12 and age <= 19:\r\n",
        "  print(\"This person is a teenager.\")\r\n",
        "elif age > 20 and age <= 45:\r\n",
        "  print(\"This person is a young adult.\")\r\n",
        "elif age > 45 and age <=65:\r\n",
        "  print(\"This person is middle aged.\")\r\n",
        "else:\r\n",
        "  print(\"This person is a senor\")\r\n"
      ],
      "execution_count": 6,
      "outputs": [
        {
          "output_type": "stream",
          "text": [
            "This person is a baby.\n"
          ],
          "name": "stdout"
        }
      ]
    },
    {
      "cell_type": "code",
      "metadata": {
        "colab": {
          "base_uri": "https://localhost:8080/"
        },
        "id": "Wa6r-IE0fe5v",
        "outputId": "b5908183-165a-4c1b-e431-395136dddf2c"
      },
      "source": [
        "list=[\"bananas\", \"coffee\", \"milk\", \"onions\", \"hand sanitizer\"]\r\n",
        "cart=[\"bananas\", \"milk\", \"onions\", \"hand sanitizer\"]\r\n",
        "for x in list:\r\n",
        "  if x in cart:\r\n",
        "    print(x, \"is in the cart.\")\r\n",
        "  else:\r\n",
        "    print(x, \"is not in the cart\")"
      ],
      "execution_count": 10,
      "outputs": [
        {
          "output_type": "stream",
          "text": [
            "bananas is in the cart.\n",
            "coffee is not in the cart\n",
            "milk is in the cart.\n",
            "onions is in the cart.\n",
            "hand sanitizer is in the cart.\n"
          ],
          "name": "stdout"
        }
      ]
    },
    {
      "cell_type": "code",
      "metadata": {
        "colab": {
          "base_uri": "https://localhost:8080/"
        },
        "id": "2qP0ikaTjefz",
        "outputId": "4744d71a-2903-4ead-c83c-b10df10696f3"
      },
      "source": [
        "cart=[\"bananas\", \"milk\", \"onions\", \"hand sanitizer\"]\r\n",
        "if \"bananas\" in cart:\r\n",
        "  print(\"bananas are in the cart\")\r\n",
        "if \"coffee\" in cart:\r\n",
        "  print(\"coffee is in the cart\")\r\n",
        "if \"milk\" in cart:\r\n",
        "  print(\"milk is in the cart\")\r\n",
        "if \"onions\" in cart:\r\n",
        "  print(\"onions are in the cart\")\r\n",
        "if \"hand sanitizer\" in cart:\r\n",
        "  print(\"hand sanitizer is in the cart\")"
      ],
      "execution_count": 13,
      "outputs": [
        {
          "output_type": "stream",
          "text": [
            "bananas are in the cart\n",
            "milk is in the cart\n",
            "onions are in the cart\n",
            "hand sanitizer is in the cart\n"
          ],
          "name": "stdout"
        }
      ]
    },
    {
      "cell_type": "code",
      "metadata": {
        "colab": {
          "base_uri": "https://localhost:8080/"
        },
        "id": "rVdwrty-pxu9",
        "outputId": "dc438105-5d17-4029-a3ad-dc2d5678fc3f"
      },
      "source": [
        "person1 = {\"first_name\": \"John\", \"last_name\" : \"Blue\", \"age\" : \"40\", \"city\" : \"Boston\", \"is_doctor\": \"no\"}\r\n",
        "for key,value in person1.items():\r\n",
        "  print(key,value)"
      ],
      "execution_count": 16,
      "outputs": [
        {
          "output_type": "stream",
          "text": [
            "first_name John\n",
            "last_name Blue\n",
            "age 40\n",
            "city Boston\n",
            "is_doctor no\n"
          ],
          "name": "stdout"
        }
      ]
    },
    {
      "cell_type": "code",
      "metadata": {
        "colab": {
          "base_uri": "https://localhost:8080/"
        },
        "id": "UWJ6Q6N0qsY1",
        "outputId": "76727506-5b70-4b4e-de7b-e36094fb3765"
      },
      "source": [
        "dict = {\"John\": \"45\", \"Matt\": \"30\", \"James\": \"2\", \"Heather\": \"17\"}\r\n",
        "for key in dict.keys():\r\n",
        "  print(key, \"is\", dict[key])"
      ],
      "execution_count": 18,
      "outputs": [
        {
          "output_type": "stream",
          "text": [
            "John is 45\n",
            "Matt is 30\n",
            "James is 2\n",
            "Heather is 17\n"
          ],
          "name": "stdout"
        }
      ]
    },
    {
      "cell_type": "code",
      "metadata": {
        "colab": {
          "base_uri": "https://localhost:8080/"
        },
        "id": "fqjplbl1rPIk",
        "outputId": "ec310649-ec7d-4f35-a599-befb823f418a"
      },
      "source": [
        "glossary = {\"range\": \"minimum and maximum values\", \"frequency\": \"the number of occurences of a data value\", \"central tendency\": \"data accumulation toward the middle of the distribution or toward the end\"}\r\n",
        "for key,value in glossary.items():\r\n",
        "  print(key,value, sep=\" : \", end=\".\\n\")"
      ],
      "execution_count": 27,
      "outputs": [
        {
          "output_type": "stream",
          "text": [
            "range : minimum and maximum values.\n",
            "frequency : the number of occurences of a data value.\n",
            "central tendency : data accumulation toward the middle of the distribution or toward the end.\n"
          ],
          "name": "stdout"
        }
      ]
    },
    {
      "cell_type": "code",
      "metadata": {
        "colab": {
          "base_uri": "https://localhost:8080/"
        },
        "id": "vPIDyi6r0kdK",
        "outputId": "e8965375-3f1a-46e9-af8d-8f16914cf77e"
      },
      "source": [
        "usernames = [\"admin\", \"jkerry\", \"fsam\", \"kdog\", \"vboxer\"]\r\n",
        "for x in usernames:\r\n",
        "  if x == \"admin\":\r\n",
        "    print(\"Welcome, admin! You have full access\")\r\n",
        "  else:\r\n",
        "    print(\"Welcome \" + x + \"!  Thank you for using my app\")"
      ],
      "execution_count": 33,
      "outputs": [
        {
          "output_type": "stream",
          "text": [
            "Welcome, admin! You have full access\n",
            "Welcome jkerry!  Thank you for using my app\n",
            "Welcome fsam!  Thank you for using my app\n",
            "Welcome kdog!  Thank you for using my app\n",
            "Welcome vboxer!  Thank you for using my app\n"
          ],
          "name": "stdout"
        }
      ]
    },
    {
      "cell_type": "code",
      "metadata": {
        "colab": {
          "base_uri": "https://localhost:8080/"
        },
        "id": "1-UM13eg16ZE",
        "outputId": "f6ddebc1-219f-4e98-d9f9-ca2a1aeaddf5"
      },
      "source": [
        "list=range(1,11)\r\n",
        "for x in list:\r\n",
        "  if x == 1:\r\n",
        "    print(str(x)+\"st\")\r\n",
        "  elif x == 2:\r\n",
        "    print(str(x)+\"nd\")\r\n",
        "  elif x == 3:\r\n",
        "    print(str(x)+\"rd\")\r\n",
        "  else:\r\n",
        "    print(str(x)+\"th\")\r\n"
      ],
      "execution_count": 35,
      "outputs": [
        {
          "output_type": "stream",
          "text": [
            "1st\n",
            "2nd\n",
            "3rd\n",
            "4th\n",
            "5th\n",
            "6th\n",
            "7th\n",
            "8th\n",
            "9th\n",
            "10th\n"
          ],
          "name": "stdout"
        }
      ]
    },
    {
      "cell_type": "code",
      "metadata": {
        "colab": {
          "base_uri": "https://localhost:8080/"
        },
        "id": "TbCYUNIZ3If6",
        "outputId": "5fb6c63a-1306-4296-9116-e834c0b8115b"
      },
      "source": [
        "dict1 = {\"first_name\":\"John\", \"last_name\": \"Franks\"}\r\n",
        "print(\"Hello, \" + dict1[\"first_name\"] + \" \" + dict1[\"last_name\"]+\"!\")"
      ],
      "execution_count": 58,
      "outputs": [
        {
          "output_type": "stream",
          "text": [
            "Hello, John Franks!\n"
          ],
          "name": "stdout"
        }
      ]
    },
    {
      "cell_type": "code",
      "metadata": {
        "colab": {
          "base_uri": "https://localhost:8080/"
        },
        "id": "6jLaE0sY4ShU",
        "outputId": "2ea3e0ed-e05c-49c0-cbf5-8934d4f6229b"
      },
      "source": [
        "dict2 = {\"trombones\": [\"tenor\",\"bass\"], \"trumpets\": [\"piccolo\", \"Bb\"]}\r\n",
        "for key,value in dict2.items():\r\n",
        "  print(key, value)\r\n"
      ],
      "execution_count": 55,
      "outputs": [
        {
          "output_type": "stream",
          "text": [
            "trombones ['tenor', 'bass']\n",
            "trumpets ['piccolo', 'Bb']\n"
          ],
          "name": "stdout"
        }
      ]
    },
    {
      "cell_type": "code",
      "metadata": {
        "colab": {
          "base_uri": "https://localhost:8080/"
        },
        "id": "uoK_lSjy8c5R",
        "outputId": "b0d23001-c077-4df7-f1ff-7867fc72ca54"
      },
      "source": [
        "dict4= {\"Names\": {\"first_name\":\"John\", \"last_name\": \"Franks\"}, \r\n",
        "        \"Brass\": {\"trombones\": \"bass\", \"trumpets\": \"Bb\"}, \r\n",
        "        \"pets\":{\"favorite pet\": \"dog\", \"second favorite pet\": \"cat\"}}\r\n",
        "for key in dict4.keys():\r\n",
        "   print(\"The\", key,\"dictionary contains\", dict4[key])"
      ],
      "execution_count": 83,
      "outputs": [
        {
          "output_type": "stream",
          "text": [
            "The Names dictionary contains {'first_name': 'John', 'last_name': 'Franks'}\n",
            "The Brass dictionary contains {'trombones': 'bass', 'trumpets': 'Bb'}\n",
            "The pets dictionary contains {'favorite pet': 'dog', 'second favorite pet': 'cat'}\n"
          ],
          "name": "stdout"
        }
      ]
    },
    {
      "cell_type": "code",
      "metadata": {
        "colab": {
          "base_uri": "https://localhost:8080/"
        },
        "id": "HmdwfBNuP9b7",
        "outputId": "3ed20db2-2289-4538-efde-8fcbdd04df9b"
      },
      "source": [
        "def city_state(city, state):\r\n",
        "  print(city, \"is in\", state)\r\n",
        "\r\n",
        "city_state(\"Austin\", \"Texas\")\r\n",
        "city_state(\"New York City\", \"New York\")\r\n",
        "city_state(\"Dover\", \"Deleware\")"
      ],
      "execution_count": 89,
      "outputs": [
        {
          "output_type": "stream",
          "text": [
            "Austin is in Texas\n",
            "New York City is in New York\n",
            "Dover is in Deleware\n"
          ],
          "name": "stdout"
        }
      ]
    },
    {
      "cell_type": "code",
      "metadata": {
        "colab": {
          "base_uri": "https://localhost:8080/"
        },
        "id": "u6P2drMxQpCh",
        "outputId": "1747ca77-1aac-458d-a251-859061dea9d1"
      },
      "source": [
        "def city_state(city=\"Jackson\", state=\"Mississippi\"):\r\n",
        "  print(city, \"is in\", state)\r\n",
        "\r\n",
        "city_state(\"Austin\", \"Texas\")\r\n",
        "city_state(\"New York City\", \"New York\")\r\n",
        "city_state(\"Dover\", \"Deleware\")\r\n",
        "city_state()"
      ],
      "execution_count": 90,
      "outputs": [
        {
          "output_type": "stream",
          "text": [
            "Austin is in Texas\n",
            "New York City is in New York\n",
            "Dover is in Deleware\n",
            "Jackson is in Mississippi\n"
          ],
          "name": "stdout"
        }
      ]
    }
  ]
}